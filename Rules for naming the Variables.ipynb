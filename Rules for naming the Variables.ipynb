{
 "cells": [
  {
   "cell_type": "markdown",
   "id": "f070693c",
   "metadata": {},
   "source": [
    "# Rules for naming the Variables"
   ]
  },
  {
   "cell_type": "markdown",
   "id": "64610ea7",
   "metadata": {},
   "source": [
    "### 1) Variable name should not start with a number\n",
    "### 2) Variable name does now allow Special characters Except for underscore\n",
    "### 3) Space is not allowed\n",
    "### 4) Variable name is case Sensitive\n",
    "### 5) Variable name can start with A-Z, a-z, _"
   ]
  },
  {
   "cell_type": "code",
   "execution_count": 1,
   "id": "955c6aa1",
   "metadata": {},
   "outputs": [
    {
     "data": {
      "text/plain": [
       "('Apple', 'Orange')"
      ]
     },
     "execution_count": 1,
     "metadata": {},
     "output_type": "execute_result"
    }
   ],
   "source": [
    "fruits=\"Apple\", \"Orange\"\n",
    "fruits"
   ]
  },
  {
   "cell_type": "code",
   "execution_count": 2,
   "id": "33b26b23",
   "metadata": {},
   "outputs": [
    {
     "data": {
      "text/plain": [
       "('apple', 'grapes')"
      ]
     },
     "execution_count": 2,
     "metadata": {},
     "output_type": "execute_result"
    }
   ],
   "source": [
    "fruit_list=\"apple\",\"grapes\"\n",
    "fruit_list"
   ]
  },
  {
   "cell_type": "code",
   "execution_count": 3,
   "id": "0632dd6a",
   "metadata": {},
   "outputs": [
    {
     "ename": "SyntaxError",
     "evalue": "cannot assign to operator (3605101900.py, line 1)",
     "output_type": "error",
     "traceback": [
      "\u001b[1;36m  File \u001b[1;32m\"C:\\Users\\Hp\\AppData\\Local\\Temp\\ipykernel_11832\\3605101900.py\"\u001b[1;36m, line \u001b[1;32m1\u001b[0m\n\u001b[1;33m    -List=\"apple\"\u001b[0m\n\u001b[1;37m    ^\u001b[0m\n\u001b[1;31mSyntaxError\u001b[0m\u001b[1;31m:\u001b[0m cannot assign to operator\n"
     ]
    }
   ],
   "source": [
    "-List=\"apple\"\n",
    "-list"
   ]
  }
 ],
 "metadata": {
  "kernelspec": {
   "display_name": "Python 3 (ipykernel)",
   "language": "python",
   "name": "python3"
  },
  "language_info": {
   "codemirror_mode": {
    "name": "ipython",
    "version": 3
   },
   "file_extension": ".py",
   "mimetype": "text/x-python",
   "name": "python",
   "nbconvert_exporter": "python",
   "pygments_lexer": "ipython3",
   "version": "3.9.13"
  }
 },
 "nbformat": 4,
 "nbformat_minor": 5
}
