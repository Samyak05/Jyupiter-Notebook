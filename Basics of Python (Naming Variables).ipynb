{
 "cells": [
  {
   "cell_type": "markdown",
   "id": "9a7d8dd6",
   "metadata": {},
   "source": [
    "## Rules for naming Variables"
   ]
  },
  {
   "cell_type": "code",
   "execution_count": 1,
   "id": "1e3ae170",
   "metadata": {},
   "outputs": [
    {
     "data": {
      "text/plain": [
       "['DS with python', 'BA with python']"
      ]
     },
     "execution_count": 1,
     "metadata": {},
     "output_type": "execute_result"
    }
   ],
   "source": [
    "books=['DS with python', 'BA with python']\n",
    "books"
   ]
  },
  {
   "cell_type": "code",
   "execution_count": 7,
   "id": "0c979965",
   "metadata": {},
   "outputs": [
    {
     "ename": "SyntaxError",
     "evalue": "invalid syntax (2785275759.py, line 1)",
     "output_type": "error",
     "traceback": [
      "\u001b[1;36m  File \u001b[1;32m\"C:\\Users\\Hp\\AppData\\Local\\Temp\\ipykernel_8716\\2785275759.py\"\u001b[1;36m, line \u001b[1;32m1\u001b[0m\n\u001b[1;33m    2books=['DS with python', 'BA with python']\u001b[0m\n\u001b[1;37m     ^\u001b[0m\n\u001b[1;31mSyntaxError\u001b[0m\u001b[1;31m:\u001b[0m invalid syntax\n"
     ]
    }
   ],
   "source": [
    "2books=['DS with python', 'BA with python']\n",
    "2books"
   ]
  },
  {
   "cell_type": "code",
   "execution_count": 8,
   "id": "53fcb3db",
   "metadata": {},
   "outputs": [
    {
     "data": {
      "text/plain": [
       "['DS with python', 'BA with python']"
      ]
     },
     "execution_count": 8,
     "metadata": {},
     "output_type": "execute_result"
    }
   ],
   "source": [
    "b2ooks=['DS with python', 'BA with python']\n",
    "b2ooks"
   ]
  },
  {
   "cell_type": "code",
   "execution_count": 9,
   "id": "24c41443",
   "metadata": {},
   "outputs": [
    {
     "ename": "SyntaxError",
     "evalue": "cannot assign to operator (1079886794.py, line 1)",
     "output_type": "error",
     "traceback": [
      "\u001b[1;36m  File \u001b[1;32m\"C:\\Users\\Hp\\AppData\\Local\\Temp\\ipykernel_8716\\1079886794.py\"\u001b[1;36m, line \u001b[1;32m1\u001b[0m\n\u001b[1;33m    books+list=['DS with python', 'BA with python']\u001b[0m\n\u001b[1;37m    ^\u001b[0m\n\u001b[1;31mSyntaxError\u001b[0m\u001b[1;31m:\u001b[0m cannot assign to operator\n"
     ]
    }
   ],
   "source": [
    "books+list=['DS with python', 'BA with python']\n",
    "books+list"
   ]
  },
  {
   "cell_type": "code",
   "execution_count": 10,
   "id": "e0d8d919",
   "metadata": {},
   "outputs": [
    {
     "data": {
      "text/plain": [
       "['DS with python', 'BA with python']"
      ]
     },
     "execution_count": 10,
     "metadata": {},
     "output_type": "execute_result"
    }
   ],
   "source": [
    "_books=['DS with python', 'BA with python']\n",
    "_books"
   ]
  },
  {
   "cell_type": "code",
   "execution_count": 11,
   "id": "741e4660",
   "metadata": {},
   "outputs": [
    {
     "data": {
      "text/plain": [
       "['DS with python', 'BA with python']"
      ]
     },
     "execution_count": 11,
     "metadata": {},
     "output_type": "execute_result"
    }
   ],
   "source": [
    "books_list=['DS with python', 'BA with python']\n",
    "books_list"
   ]
  }
 ],
 "metadata": {
  "kernelspec": {
   "display_name": "Python 3 (ipykernel)",
   "language": "python",
   "name": "python3"
  },
  "language_info": {
   "codemirror_mode": {
    "name": "ipython",
    "version": 3
   },
   "file_extension": ".py",
   "mimetype": "text/x-python",
   "name": "python",
   "nbconvert_exporter": "python",
   "pygments_lexer": "ipython3",
   "version": "3.9.13"
  }
 },
 "nbformat": 4,
 "nbformat_minor": 5
}
